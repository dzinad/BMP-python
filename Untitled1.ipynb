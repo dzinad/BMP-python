{
 "cells": [
  {
   "cell_type": "code",
   "execution_count": null,
   "metadata": {
    "scrolled": false
   },
   "outputs": [],
   "source": [
    "import struct\n",
    "import numpy as np\n",
    "\n",
    "class Color(object):\n",
    "    \"\"\"docstring\"\"\"        \n",
    "    \n",
    "    def __init__(self, r, g, b):\n",
    "        \"\"\"Constructor\"\"\"\n",
    "        self.r = r\n",
    "        self.g = g\n",
    "        self.b = b\n",
    "        \n",
    "    def __repr__(self):\n",
    "        return '(' + str(self.r) + ', ' + str(self.g) + ', ' + str(self.b) + ')'\n",
    "\n",
    "print 'start'\n",
    "bmp = open(\"test.bmp\", 'rb')\n",
    "bmp.read(10)\n",
    "#print('Type:', bmp.read(2).decode())\n",
    "#print('Size: %s' % struct.unpack('I', bmp.read(4)))\n",
    "#print('Reserved 1: %s' % struct.unpack('H', bmp.read(2)))\n",
    "#print('Reserved 2: %s' % struct.unpack('H', bmp.read(2)))\n",
    "offset = struct.unpack('I', bmp.read(4))[0]\n",
    "bmp.read(4)\n",
    "width = struct.unpack('I', bmp.read(4))[0]\n",
    "height = struct.unpack('I', bmp.read(4))[0]\n",
    "bmp.read(2)\n",
    "depth = struct.unpack('H', bmp.read(2))[0]\n",
    "print (width, height, offset, depth)\n",
    "print '========================'\n",
    "#прочитано 30\n",
    "bmp.read(offset - 30)\n",
    "tmp = [] #0, 1, 2 - rgb\n",
    "for i in range (0, width * height):\n",
    "    arr = [];\n",
    "    for k in range(0, depth / 8):\n",
    "        r = ord(bmp.read(1))\n",
    "        arr.append(r)\n",
    "    c = Color(arr[0], arr[1], arr[2])\n",
    "    print c\n",
    "    tmp.append(c)\n",
    "    #print tmp\n",
    "print tmp\n",
    "colors = np.array(tmp).reshape(height, width)\n",
    "colors = np.flip(colors, 0)\n",
    "colors = np.flip(colors, 1)\n",
    "#print colors\n"
   ]
  },
  {
   "cell_type": "code",
   "execution_count": null,
   "metadata": {
    "collapsed": true
   },
   "outputs": [],
   "source": []
  },
  {
   "cell_type": "code",
   "execution_count": 23,
   "metadata": {},
   "outputs": [
    {
     "name": "stdout",
     "output_type": "stream",
     "text": [
      "14\n"
     ]
    }
   ],
   "source": [
    "print 2+3+9"
   ]
  },
  {
   "cell_type": "code",
   "execution_count": null,
   "metadata": {
    "collapsed": true
   },
   "outputs": [],
   "source": []
  }
 ],
 "metadata": {
  "kernelspec": {
   "display_name": "Python 2",
   "language": "python",
   "name": "python2"
  }
 },
 "nbformat": 4,
 "nbformat_minor": 2
}
