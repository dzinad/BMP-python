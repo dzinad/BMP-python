{
 "cells": [
  {
   "cell_type": "code",
   "execution_count": 114,
   "metadata": {},
   "outputs": [
    {
     "name": "stdout",
     "output_type": "stream",
     "text": [
      "360978\n",
      "(0, 'x', 13825, ' depth: ', 6144, ' offset:', 592705486848L, 'size: ', 77309739008L)\n",
      "(0, 66)\n",
      "(1, 77)\n",
      "(2, 18)\n",
      "(3, 130)\n",
      "(4, 5)\n",
      "(5, 0)\n",
      "(6, 0)\n",
      "(7, 0)\n",
      "(8, 0)\n",
      "(9, 0)\n",
      "(10, 138)\n",
      "(11, 0)\n",
      "(12, 0)\n",
      "(13, 0)\n",
      "(14, 124)\n",
      "(15, 0)\n",
      "(16, 0)\n",
      "(17, 0)\n",
      "(18, 131)\n",
      "(19, 1)\n",
      "(20, 0)\n",
      "(21, 0)\n",
      "(22, 54)\n",
      "(23, 1)\n",
      "(24, 0)\n",
      "(25, 0)\n",
      "(26, 1)\n",
      "(27, 0)\n",
      "(28, 24)\n",
      "(29, 0)\n",
      "(30, 0)\n",
      "(31, 0)\n",
      "(32, 0)\n",
      "(33, 0)\n",
      "(34, 136)\n",
      "(35, 129)\n",
      "(36, 5)\n",
      "(37, 0)\n",
      "(38, 0)\n",
      "(39, 0)\n",
      "(40, 0)\n",
      "(41, 0)\n",
      "(42, 0)\n",
      "(43, 0)\n",
      "(44, 0)\n",
      "(45, 0)\n",
      "(46, 0)\n",
      "(47, 0)\n",
      "(48, 0)\n",
      "(49, 0)\n",
      "(50, 0)\n"
     ]
    }
   ],
   "source": [
    "import struct\n",
    "with open('test.bmp', 'rb') as f:\n",
    "    data = bytearray(f.read())\n",
    "    print len(data)\n",
    "    size = data[2] * (2 ** 32) + data[4] * (2 ** 16) + data[5] * (2 ** 8) + data[6]\n",
    "    offset = data[10] * (2 ** 32) + data[11] * (2 ** 16) + data[12] * (2 ** 8) + data[13]\n",
    "    width = data[20] * (2 ** 8) + data[21]\n",
    "    height = data[22] * (2 ** 8) + data[23]\n",
    "    depth = data[28] * (2 ** 8) + data[29]\n",
    "    print (width, 'x' , height, ' depth: ', depth, ' offset:',  offset, 'size: ', size)\n",
    "#print ('offset = ', offset)\n",
    "num = 0;\n",
    "#for i in range(offset + 1, offset + 1 + width * height):\n",
    "    #print (data[i], data[i + 1], data[i  + 2])\n",
    "for i in range(0, 51):\n",
    "    print (i, data[i])\n",
    "    #num += 1;\n",
    "#print ('num = ', num)"
   ]
  }
 ],
 "metadata": {
  "kernelspec": {
   "display_name": "Python 2",
   "language": "python",
   "name": "python2"
  },
  "language_info": {
   "codemirror_mode": {
    "name": "ipython",
    "version": 2
   },
   "file_extension": ".py",
   "mimetype": "text/x-python",
   "name": "python",
   "nbconvert_exporter": "python",
   "pygments_lexer": "ipython2",
   "version": "2.7.14"
  }
 },
 "nbformat": 4,
 "nbformat_minor": 2
}
